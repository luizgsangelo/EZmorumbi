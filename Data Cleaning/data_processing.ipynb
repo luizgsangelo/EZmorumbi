{
 "cells": [
  {
   "cell_type": "code",
   "execution_count": 1,
   "metadata": {},
   "outputs": [],
   "source": [
    "import pandas as pd\n",
    "import numpy as np"
   ]
  },
  {
   "cell_type": "code",
   "execution_count": 2,
   "metadata": {},
   "outputs": [],
   "source": [
    "pd.set_option(\"display.max_rows\", 100)\n",
    "pd.set_option(\"display.max_columns\", None)\n",
    "pd.set_option(\"display.width\", 120)\n",
    "pd.set_option(\"display.float_format\", \"{:.2f}\".format)\n",
    "pd.set_option(\"display.precision\", 3)\n",
    "pd.set_option(\"display.max_colwidth\", None)"
   ]
  },
  {
   "cell_type": "markdown",
   "metadata": {},
   "source": [
    "\n",
    "## Leitura e primeiras colunas deletadas"
   ]
  },
  {
   "cell_type": "code",
   "execution_count": 3,
   "metadata": {},
   "outputs": [],
   "source": [
    "entradas = pd.read_csv(r\"ENTRADASEBZMORUMBI2025 - Entradas.csv\")\n",
    "entradas = entradas.dropna(subset=(\"Colaborador\"))\n",
    "entradas.drop(columns=[\"Unnamed: 49\", \"Unnamed: 50\"], inplace=True)"
   ]
  },
  {
   "cell_type": "code",
   "execution_count": 4,
   "metadata": {},
   "outputs": [
    {
     "name": "stdout",
     "output_type": "stream",
     "text": [
      "<class 'pandas.core.frame.DataFrame'>\n",
      "Index: 1217 entries, 0 to 1216\n",
      "Data columns (total 52 columns):\n",
      " #   Column                         Non-Null Count  Dtype  \n",
      "---  ------                         --------------  -----  \n",
      " 0   data                           1217 non-null   object \n",
      " 1   id                             1217 non-null   float64\n",
      " 2   colaborador                    1217 non-null   object \n",
      " 3   cliente                        1217 non-null   object \n",
      " 4   servico                        1217 non-null   object \n",
      " 5   valordoservico                 1217 non-null   object \n",
      " 6   clientenovo                    1217 non-null   object \n",
      " 7   local                          1217 non-null   object \n",
      " 8   produto                        1217 non-null   object \n",
      " 9   quantidadeproduto              1217 non-null   object \n",
      " 10  valortotaldosproduto           1217 non-null   object \n",
      " 11  auxvalortotalcompraprodutos    1217 non-null   object \n",
      " 12  auxdescontoprodutos            1217 non-null   object \n",
      " 13  porcentagemprodutocolaborador  1217 non-null   object \n",
      " 14  doces                          1217 non-null   object \n",
      " 15  quantidadedoces                1217 non-null   object \n",
      " 16  valortotaldosdoces             1217 non-null   object \n",
      " 17  auxvalortotalcompradoces       1217 non-null   object \n",
      " 18  auxdescontodoces               1217 non-null   float64\n",
      " 19  salgados                       1217 non-null   object \n",
      " 20  quantidadesalgados             1217 non-null   float64\n",
      " 21  valortotaldossalgados          1217 non-null   object \n",
      " 22  auxvalortotalcomprassalgados   1217 non-null   object \n",
      " 23  auxdescontosalgados            1217 non-null   object \n",
      " 24  bebidas                        1217 non-null   object \n",
      " 25  quantidadebebidas              1217 non-null   object \n",
      " 26  valortotaldasbebidas           1217 non-null   object \n",
      " 27  auxvalortotalcomprasbebidas    1217 non-null   object \n",
      " 28  auxdescontobebidas             1217 non-null   object \n",
      " 29  formadepagamento               1215 non-null   object \n",
      " 30  taxamaquina                    1215 non-null   object \n",
      " 31  total(s+p)                     1217 non-null   object \n",
      " 32  total(s)*t                     1215 non-null   object \n",
      " 33  total(s+p)*t                   1215 non-null   object \n",
      " 34  total[(s+p)-lp]*t              1215 non-null   object \n",
      " 35  totals+lp-col                  1215 non-null   object \n",
      " 36  totalcolaborador               1217 non-null   object \n",
      " 37  colaborador50%                 1215 non-null   object \n",
      " 38  auxdadosprodutos               702 non-null    object \n",
      " 39  auxdatasprodutos               86 non-null     object \n",
      " 40  unnamed: 40                    101 non-null    object \n",
      " 41  data.1                         104 non-null    object \n",
      " 42  unnamed: 42                    86 non-null     object \n",
      " 43  produtos                       104 non-null    object \n",
      " 44  auxquantidadeprodutos          111 non-null    object \n",
      " 45  auxdescontoprodutos.1          119 non-null    object \n",
      " 46  auxtaxas                       761 non-null    object \n",
      " 47  taxafinal                      107 non-null    object \n",
      " 48  id.1                           10 non-null     object \n",
      " 49  auxdescontoprodutos.2          19 non-null     object \n",
      " 50  auxtaxas.1                     192 non-null    object \n",
      " 51  taxafinal.1                    23 non-null     object \n",
      "dtypes: float64(3), object(49)\n",
      "memory usage: 503.9+ KB\n"
     ]
    }
   ],
   "source": [
    "entradas.columns = [col.lower() for col in entradas.columns]\n",
    "entradas.info()"
   ]
  },
  {
   "cell_type": "markdown",
   "metadata": {},
   "source": [
    "### Definindo classe e funções de limpeza"
   ]
  },
  {
   "cell_type": "code",
   "execution_count": 5,
   "metadata": {},
   "outputs": [],
   "source": [
    "from typing import Dict, Union\n",
    "import pandas as pd\n",
    "import numpy as np\n",
    "\n",
    "\n",
    "class DataCleaner:\n",
    "    def __init__(self, df: pd.DataFrame):\n",
    "        self.df = df.copy()\n",
    "\n",
    "    def to_date(self, date_column: str, date_format: str = \"%d/%m/%Y\") -> \"DataCleaner\":\n",
    "        \"\"\"Convert a column to datetime.\"\"\"\n",
    "        if date_column in self.df.columns:\n",
    "            self.df[date_column] = pd.to_datetime(\n",
    "                self.df[date_column], format=date_format, errors=\"coerce\"\n",
    "            )\n",
    "        return self\n",
    "\n",
    "    def normalize_dollar(self, dollar_column: str) -> \"DataCleaner\":\n",
    "        \"\"\"Normalize dollar values: remove currency symbols, convert to float.\"\"\"\n",
    "        if dollar_column in self.df.columns:\n",
    "            self.df[dollar_column] = (\n",
    "                self.df[dollar_column]\n",
    "                .astype(str)\n",
    "                .str.replace(\"R$\", \"\")\n",
    "                .str.replace(\",\", \".\")\n",
    "                .str.replace(\" \", \"\")\n",
    "                .str.replace(\"0.0.0\", \"0\")\n",
    "            )\n",
    "            self.df[dollar_column] = pd.to_numeric(\n",
    "                self.df[dollar_column], errors=\"coerce\"\n",
    "            )\n",
    "        return self\n",
    "\n",
    "    def to_boolean(self, column: str) -> \"DataCleaner\":\n",
    "        \"\"\"Convert 'SIM'/'NÃO' values to boolean.\"\"\"\n",
    "        if column in self.df.columns:\n",
    "            self.df[column] = (\n",
    "                self.df[column].map({\"NÃO\": False, \"SIM\": True}).astype(\"boolean\")\n",
    "            )\n",
    "        return self\n",
    "\n",
    "    def to_null(self, column: str, null_val: str = \"VAZIO\") -> \"DataCleaner\":\n",
    "        \"\"\"Convert specific string values to NaN.\"\"\"\n",
    "        if column in self.df.columns:\n",
    "            self.df[column] = self.df[column].replace(null_val, np.nan)\n",
    "        return self\n",
    "\n",
    "    def to_its_own_dimension(\n",
    "        self, key: str, value: str, id_column: str = \"id\"\n",
    "    ) -> pd.DataFrame:\n",
    "        \"\"\"Extract a normalized dimension table from the current DataFrame.\"\"\"\n",
    "        if all(col in self.df.columns for col in [id_column, key, value]):\n",
    "            new_df = (\n",
    "                self.df[[id_column, key, value]]\n",
    "                .drop_duplicates()\n",
    "                .rename(columns={key: \"produtos\", value: \"quantidade\"})\n",
    "                .assign(type=key)\n",
    "            )\n",
    "            return new_df\n",
    "        else:\n",
    "            raise ValueError(\"nem todas ou alguma coluna não presente\")\n",
    "\n",
    "    def get_data(self) -> pd.DataFrame:\n",
    "        \"\"\"Return the cleaned DataFrame.\"\"\"\n",
    "        return self.df.copy()"
   ]
  },
  {
   "cell_type": "code",
   "execution_count": 6,
   "metadata": {},
   "outputs": [],
   "source": [
    "class feature_engineering(pd.DataFrame):\n",
    "\n",
    "    def __init__(self, *args, **kwargs) -> None:\n",
    "        super().__init__(*args, **kwargs)\n",
    "\n",
    "    def index_values(self, column: str) -> \"feature_engineering\":\n",
    "        \"\"\"\n",
    "        Creates a mapping of unique values in a column to unique indices.\n",
    "\n",
    "        Args:\n",
    "            column (str): The column to index.\n",
    "\n",
    "        Returns:\n",
    "            feature_engineering: The updated DataFrame with an indexed column.\n",
    "        \"\"\"\n",
    "        unique_values = self[column].unique()\n",
    "        dicionario = {value: key for key, value in enumerate(unique_values)}\n",
    "        self[f\"id_{column}\"] = self[column].map(dicionario)\n",
    "        return self"
   ]
  },
  {
   "cell_type": "markdown",
   "metadata": {},
   "source": [
    "## Limpando dados"
   ]
  },
  {
   "cell_type": "code",
   "execution_count": 7,
   "metadata": {},
   "outputs": [],
   "source": [
    "entradas = DataCleaner(entradas)\n",
    "entradas = entradas.to_date(\"data\")"
   ]
  },
  {
   "cell_type": "code",
   "execution_count": 8,
   "metadata": {},
   "outputs": [
    {
     "name": "stdout",
     "output_type": "stream",
     "text": [
      "<class 'pandas.core.frame.DataFrame'>\n",
      "Index: 1217 entries, 0 to 1216\n",
      "Data columns (total 52 columns):\n",
      " #   Column                         Non-Null Count  Dtype         \n",
      "---  ------                         --------------  -----         \n",
      " 0   data                           1217 non-null   datetime64[ns]\n",
      " 1   id                             1217 non-null   float64       \n",
      " 2   colaborador                    1217 non-null   object        \n",
      " 3   cliente                        1217 non-null   object        \n",
      " 4   servico                        1217 non-null   object        \n",
      " 5   valordoservico                 1217 non-null   object        \n",
      " 6   clientenovo                    1217 non-null   object        \n",
      " 7   local                          1217 non-null   object        \n",
      " 8   produto                        1217 non-null   object        \n",
      " 9   quantidadeproduto              1217 non-null   object        \n",
      " 10  valortotaldosproduto           1217 non-null   object        \n",
      " 11  auxvalortotalcompraprodutos    1217 non-null   object        \n",
      " 12  auxdescontoprodutos            1217 non-null   object        \n",
      " 13  porcentagemprodutocolaborador  1217 non-null   object        \n",
      " 14  doces                          1217 non-null   object        \n",
      " 15  quantidadedoces                1217 non-null   object        \n",
      " 16  valortotaldosdoces             1217 non-null   object        \n",
      " 17  auxvalortotalcompradoces       1217 non-null   object        \n",
      " 18  auxdescontodoces               1217 non-null   float64       \n",
      " 19  salgados                       1217 non-null   object        \n",
      " 20  quantidadesalgados             1217 non-null   float64       \n",
      " 21  valortotaldossalgados          1217 non-null   object        \n",
      " 22  auxvalortotalcomprassalgados   1217 non-null   object        \n",
      " 23  auxdescontosalgados            1217 non-null   object        \n",
      " 24  bebidas                        1217 non-null   object        \n",
      " 25  quantidadebebidas              1217 non-null   object        \n",
      " 26  valortotaldasbebidas           1217 non-null   object        \n",
      " 27  auxvalortotalcomprasbebidas    1217 non-null   object        \n",
      " 28  auxdescontobebidas             1217 non-null   object        \n",
      " 29  formadepagamento               1215 non-null   object        \n",
      " 30  taxamaquina                    1215 non-null   object        \n",
      " 31  total(s+p)                     1217 non-null   object        \n",
      " 32  total(s)*t                     1215 non-null   object        \n",
      " 33  total(s+p)*t                   1215 non-null   object        \n",
      " 34  total[(s+p)-lp]*t              1215 non-null   object        \n",
      " 35  totals+lp-col                  1215 non-null   object        \n",
      " 36  totalcolaborador               1217 non-null   object        \n",
      " 37  colaborador50%                 1215 non-null   object        \n",
      " 38  auxdadosprodutos               702 non-null    object        \n",
      " 39  auxdatasprodutos               86 non-null     object        \n",
      " 40  unnamed: 40                    101 non-null    object        \n",
      " 41  data.1                         104 non-null    object        \n",
      " 42  unnamed: 42                    86 non-null     object        \n",
      " 43  produtos                       104 non-null    object        \n",
      " 44  auxquantidadeprodutos          111 non-null    object        \n",
      " 45  auxdescontoprodutos.1          119 non-null    object        \n",
      " 46  auxtaxas                       761 non-null    object        \n",
      " 47  taxafinal                      107 non-null    object        \n",
      " 48  id.1                           10 non-null     object        \n",
      " 49  auxdescontoprodutos.2          19 non-null     object        \n",
      " 50  auxtaxas.1                     192 non-null    object        \n",
      " 51  taxafinal.1                    23 non-null     object        \n",
      "dtypes: datetime64[ns](1), float64(3), object(48)\n",
      "memory usage: 503.9+ KB\n"
     ]
    }
   ],
   "source": [
    "entradas.df.info()"
   ]
  },
  {
   "cell_type": "code",
   "execution_count": 9,
   "metadata": {},
   "outputs": [],
   "source": [
    "colunas_valor = (\n",
    "    [col for col in entradas.df.columns if col.startswith(\"valor\")]\n",
    "    + [\n",
    "        \"taxamaquina\",\n",
    "        \"total(s+p)\",\n",
    "        \"total(s+p)*t\",\n",
    "        \"total[(s+p)-lp]*t\",\n",
    "        \"totals+lp-col\",\n",
    "        \"totalcolaborador\",\n",
    "        \"colaborador50%\",\n",
    "    ]\n",
    "    + [col for col in entradas.df.columns if col.startswith(\"auxvalor\")]\n",
    "    + [col for col in entradas.df.columns if col.startswith(\"auxdesconto\")]\n",
    ")\n",
    "for col in colunas_valor:\n",
    "    entradas = entradas.normalize_dollar(col)"
   ]
  },
  {
   "cell_type": "code",
   "execution_count": 10,
   "metadata": {},
   "outputs": [],
   "source": [
    "entradas = entradas.to_boolean(\"clientenovo\")\n",
    "\n",
    "colunas = [\"produto\", \"doces\", \"salgados\", \"bebidas\"]\n",
    "for col in colunas:\n",
    "    entradas = entradas.to_null(col)"
   ]
  },
  {
   "cell_type": "code",
   "execution_count": 11,
   "metadata": {},
   "outputs": [
    {
     "data": {
      "text/plain": [
       "np.int64(0)"
      ]
     },
     "execution_count": 11,
     "metadata": {},
     "output_type": "execute_result"
    }
   ],
   "source": [
    "np.where(\n",
    "    (entradas.df[\"produto\"] == \"VAZIO\")\n",
    "    | (entradas.df[\"doces\"] == \"VAZIO\")\n",
    "    | (entradas.df[\"salgados\"] == \"VAZIO\")\n",
    "    | (entradas.df[\"bebidas\"] == \"VAZIO\"),\n",
    "    1,\n",
    "    0,\n",
    ").sum()"
   ]
  },
  {
   "cell_type": "markdown",
   "metadata": {},
   "source": [
    "## Criando dimensão de produto"
   ]
  },
  {
   "cell_type": "code",
   "execution_count": 12,
   "metadata": {},
   "outputs": [],
   "source": [
    "produtos = pd.read_csv(r\"ENTRADASEBZMORUMBI2025 - Produtos.csv\")\n",
    "produtos.columns = [col.lower() for col in produtos.columns]"
   ]
  },
  {
   "cell_type": "code",
   "execution_count": 13,
   "metadata": {},
   "outputs": [],
   "source": [
    "dim_servico = produtos[[\"serviço\", \"valor do serviço\"]].copy()\n",
    "\n",
    "dim_produto = produtos[[\"produto\", \"valor de venda\", \"valor de compra\", \"lucro\"]].copy()\n",
    "\n",
    "\n",
    "\n",
    "dim_doce = produtos[[\"doce\", \"valor de venda.1\", \"valor de compra.1\", \"lucro.1\"]].copy()\n",
    "\n",
    "\n",
    "dim_salgado = produtos[\n",
    "    [\"salgado\", \"valor de venda.2\", \"valor de compra.2\", \"lucro.2\"]\n",
    "].copy()\n",
    "\n",
    "\n",
    "\n",
    "dim_bebida = produtos[\n",
    "    [\"bebida\", \"valor de venda.3\", \"valor de compra.3\", \"lucro.3\"]\n",
    "].copy()\n",
    "\n",
    "\n",
    "\n",
    "dim_funcionario = produtos[[\"funcionario\", \"porcentagem\"]].copy()\n",
    "\n",
    "\n",
    "dim_taxa = produtos[[\"funcao\", \"taxa\"]].copy()"
   ]
  },
  {
   "cell_type": "code",
   "execution_count": 14,
   "metadata": {},
   "outputs": [],
   "source": [
    "dimensoes_produtos = [dim_produto, dim_doce, dim_salgado, dim_bebida]"
   ]
  },
  {
   "cell_type": "code",
   "execution_count": 15,
   "metadata": {},
   "outputs": [],
   "source": [
    "dim_servico.loc[:, (\"tipo\")] = \"servico\"\n",
    "dim_produto.loc[:, (\"tipo\")] = \"barbearia\"\n",
    "dim_doce.loc[:, (\"tipo\")] = \"doce\"\n",
    "dim_salgado.loc[:, (\"tipo\")] = \"salgado\"\n",
    "dim_bebida.loc[:, (\"tipo\")] = \"bebida\"\n",
    "dim_funcionario.loc[:, (\"tipo\")] = \"funcionario\"\n",
    "dim_taxa.loc[:, (\"tipo\")] = \"taxa\""
   ]
  },
  {
   "cell_type": "code",
   "execution_count": 16,
   "metadata": {},
   "outputs": [],
   "source": [
    "dataframes = [\n",
    "    dim_servico,\n",
    "    dim_produto,\n",
    "    dim_doce,\n",
    "    dim_salgado,\n",
    "    dim_bebida,\n",
    "    dim_funcionario,\n",
    "    dim_taxa,\n",
    "]\n",
    "for data in dataframes:\n",
    "    data.dropna(inplace=True)"
   ]
  },
  {
   "cell_type": "code",
   "execution_count": 17,
   "metadata": {},
   "outputs": [
    {
     "data": {
      "application/vnd.microsoft.datawrangler.viewer.v0+json": {
       "columns": [
        {
         "name": "index",
         "rawType": "int64",
         "type": "integer"
        },
        {
         "name": "servico",
         "rawType": "object",
         "type": "string"
        },
        {
         "name": "vl_venda",
         "rawType": "object",
         "type": "string"
        },
        {
         "name": "tipo",
         "rawType": "object",
         "type": "string"
        }
       ],
       "conversionMethod": "pd.DataFrame",
       "ref": "3b337581-5eab-485e-bfef-12601e4513af",
       "rows": [
        [
         "0",
         "Corte",
         "R$ 60,00",
         "servico"
        ],
        [
         "1",
         "Barba",
         "R$ 50,00",
         "servico"
        ],
        [
         "2",
         "Perfil",
         "R$ 20,00",
         "servico"
        ],
        [
         "3",
         "Sobrancelha",
         "R$ 20,00",
         "servico"
        ],
        [
         "4",
         "Higienização Facial",
         "R$ 50,00",
         "servico"
        ],
        [
         "5",
         "Corte+Barba",
         "R$ 90,00",
         "servico"
        ],
        [
         "6",
         "Corte+Sobrancelha",
         "R$ 80,00",
         "servico"
        ],
        [
         "7",
         "Corte+Higienização facial",
         "R$ 110,00",
         "servico"
        ],
        [
         "8",
         "Barba+Sobrancelha",
         "R$ 70,00",
         "servico"
        ],
        [
         "9",
         "Barba+Perfil",
         "R$ 70,00",
         "servico"
        ],
        [
         "10",
         "Barba+Higienização facial",
         "R$ 100,00",
         "servico"
        ],
        [
         "11",
         "Barboterapia",
         "R$ 100,00",
         "servico"
        ],
        [
         "12",
         "Corte+Barboterapia",
         "R$ 160,00",
         "servico"
        ],
        [
         "13",
         "Corte+Freestyle",
         "R$ 80,00",
         "servico"
        ],
        [
         "14",
         "Corte+Barba+Freestyle",
         "R$ 110,00",
         "servico"
        ],
        [
         "15",
         "Serviço Livre",
         "R$ 0,00",
         "servico"
        ],
        [
         "16",
         "Corte+Barba+Sobrancelha",
         "R$ 110,00",
         "servico"
        ],
        [
         "17",
         "Corte+Barba+Hidratação",
         "R$ 120,00",
         "servico"
        ],
        [
         "18",
         "Corte+Hidratação",
         "R$ 90,00",
         "servico"
        ],
        [
         "19",
         "Hidratação",
         "R$ 30,00",
         "servico"
        ],
        [
         "20",
         "Luzes",
         "R$ 100,00",
         "servico"
        ],
        [
         "21",
         "Corte+Luzes",
         "R$ 160,00",
         "servico"
        ],
        [
         "22",
         "Corte+Barba+Luzes",
         "R$ 190,00",
         "servico"
        ],
        [
         "23",
         "Platinado",
         "R$ 250,00",
         "servico"
        ],
        [
         "24",
         "Corte+Platinado",
         "R$ 310,00",
         "servico"
        ],
        [
         "25",
         "Luzes",
         "R$ 100,00",
         "servico"
        ],
        [
         "26",
         "Corte+Luzes",
         "R$ 160,00",
         "servico"
        ],
        [
         "27",
         "Corte+Barba+Luzes",
         "R$ 190,00",
         "servico"
        ],
        [
         "28",
         "Platinado",
         "R$ 250,00",
         "servico"
        ],
        [
         "29",
         "Corte+Platinado",
         "R$ 310,00",
         "servico"
        ],
        [
         "30",
         "Corte+Barba+Platinado",
         "R$ 340,00",
         "servico"
        ],
        [
         "31",
         "Corte+Barba+Higienização Facial",
         "R$ 140,00",
         "servico"
        ],
        [
         "32",
         "Corte só Máquina",
         "R$ 50,00",
         "servico"
        ],
        [
         "33",
         "Alisamento Sódio",
         "R$ 60,00",
         "servico"
        ],
        [
         "34",
         "Corte+Alisamento Sódio",
         "R$ 120,00",
         "servico"
        ],
        [
         "35",
         "Serviço Mensalista",
         "R$ 0,01",
         "servico"
        ],
        [
         "36",
         "Atendimento a Domicílio",
         "R$ 0,01",
         "servico"
        ],
        [
         "37",
         "Corte+Alisamento Sódio",
         "R$ 120,00",
         "servico"
        ],
        [
         "38",
         "Corte+Barba+Alisamento Sódio",
         "R$ 150,00",
         "servico"
        ],
        [
         "39",
         "Corte+Barba+Sobrancelha+Alisamento Sódio",
         "R$ 170,00",
         "servico"
        ],
        [
         "40",
         "Maquiagem",
         "R$ 20,00",
         "servico"
        ],
        [
         "41",
         "Corte+Maquiagem",
         "R$ 80,00",
         "servico"
        ],
        [
         "42",
         "Corte+Barba+Maquiagem",
         "R$ 110,00",
         "servico"
        ],
        [
         "43",
         "Corte+Barba+Sobrancelha+Maquiagem",
         "R$ 130,00",
         "servico"
        ],
        [
         "44",
         "Corte+Sobrancelha+Maquiagem",
         "R$ 100,00",
         "servico"
        ],
        [
         "45",
         "Barba+Sobrancelha+Maquiagem",
         "R$ 90,00",
         "servico"
        ],
        [
         "46",
         "Barba+Maquiagem",
         "R$ 70,00",
         "servico"
        ],
        [
         "47",
         "Penteado",
         "R$ 40,00",
         "servico"
        ],
        [
         "48",
         "Corte+Penteado",
         "R$ 80,00",
         "servico"
        ],
        [
         "49",
         "Corte+Barba+Penteado",
         "R$ 130,00",
         "servico"
        ]
       ],
       "shape": {
        "columns": 3,
        "rows": 115
       }
      },
      "text/html": [
       "<div>\n",
       "<style scoped>\n",
       "    .dataframe tbody tr th:only-of-type {\n",
       "        vertical-align: middle;\n",
       "    }\n",
       "\n",
       "    .dataframe tbody tr th {\n",
       "        vertical-align: top;\n",
       "    }\n",
       "\n",
       "    .dataframe thead th {\n",
       "        text-align: right;\n",
       "    }\n",
       "</style>\n",
       "<table border=\"1\" class=\"dataframe\">\n",
       "  <thead>\n",
       "    <tr style=\"text-align: right;\">\n",
       "      <th></th>\n",
       "      <th>servico</th>\n",
       "      <th>vl_venda</th>\n",
       "      <th>tipo</th>\n",
       "    </tr>\n",
       "  </thead>\n",
       "  <tbody>\n",
       "    <tr>\n",
       "      <th>0</th>\n",
       "      <td>Corte</td>\n",
       "      <td>R$ 60,00</td>\n",
       "      <td>servico</td>\n",
       "    </tr>\n",
       "    <tr>\n",
       "      <th>1</th>\n",
       "      <td>Barba</td>\n",
       "      <td>R$ 50,00</td>\n",
       "      <td>servico</td>\n",
       "    </tr>\n",
       "    <tr>\n",
       "      <th>2</th>\n",
       "      <td>Perfil</td>\n",
       "      <td>R$ 20,00</td>\n",
       "      <td>servico</td>\n",
       "    </tr>\n",
       "    <tr>\n",
       "      <th>3</th>\n",
       "      <td>Sobrancelha</td>\n",
       "      <td>R$ 20,00</td>\n",
       "      <td>servico</td>\n",
       "    </tr>\n",
       "    <tr>\n",
       "      <th>4</th>\n",
       "      <td>Higienização Facial</td>\n",
       "      <td>R$ 50,00</td>\n",
       "      <td>servico</td>\n",
       "    </tr>\n",
       "    <tr>\n",
       "      <th>...</th>\n",
       "      <td>...</td>\n",
       "      <td>...</td>\n",
       "      <td>...</td>\n",
       "    </tr>\n",
       "    <tr>\n",
       "      <th>110</th>\n",
       "      <td>Corte+Barba+Sobrancelha+Platinado</td>\n",
       "      <td>R$ 360,00</td>\n",
       "      <td>servico</td>\n",
       "    </tr>\n",
       "    <tr>\n",
       "      <th>111</th>\n",
       "      <td>Corte+Sobrancelha+Platinado</td>\n",
       "      <td>R$ 320,00</td>\n",
       "      <td>servico</td>\n",
       "    </tr>\n",
       "    <tr>\n",
       "      <th>112</th>\n",
       "      <td>Perfil+Barba+Sobrancelha</td>\n",
       "      <td>R$ 90,00</td>\n",
       "      <td>servico</td>\n",
       "    </tr>\n",
       "    <tr>\n",
       "      <th>113</th>\n",
       "      <td>Corte+Higienização Facial+Alisamento Sódio</td>\n",
       "      <td>R$ 170,00</td>\n",
       "      <td>servico</td>\n",
       "    </tr>\n",
       "    <tr>\n",
       "      <th>114</th>\n",
       "      <td>Barba+Perfil+Depilação Nariz+Depilação Orelha</td>\n",
       "      <td>R$ 130,00</td>\n",
       "      <td>servico</td>\n",
       "    </tr>\n",
       "  </tbody>\n",
       "</table>\n",
       "<p>115 rows × 3 columns</p>\n",
       "</div>"
      ],
      "text/plain": [
       "                                           servico   vl_venda     tipo\n",
       "0                                            Corte   R$ 60,00  servico\n",
       "1                                            Barba   R$ 50,00  servico\n",
       "2                                           Perfil   R$ 20,00  servico\n",
       "3                                      Sobrancelha   R$ 20,00  servico\n",
       "4                              Higienização Facial   R$ 50,00  servico\n",
       "..                                             ...        ...      ...\n",
       "110              Corte+Barba+Sobrancelha+Platinado  R$ 360,00  servico\n",
       "111                    Corte+Sobrancelha+Platinado  R$ 320,00  servico\n",
       "112                       Perfil+Barba+Sobrancelha   R$ 90,00  servico\n",
       "113     Corte+Higienização Facial+Alisamento Sódio  R$ 170,00  servico\n",
       "114  Barba+Perfil+Depilação Nariz+Depilação Orelha  R$ 130,00  servico\n",
       "\n",
       "[115 rows x 3 columns]"
      ]
     },
     "execution_count": 17,
     "metadata": {},
     "output_type": "execute_result"
    }
   ],
   "source": [
    "novas_colunas = [\"produto\", \"vl_venda\", \"vl_compra\", \"lucro\", \"tipo\"]\n",
    "\n",
    "dim_produto.columns = novas_colunas\n",
    "dim_bebida.columns = novas_colunas\n",
    "dim_doce.columns = novas_colunas\n",
    "dim_salgado.columns = novas_colunas\n",
    "\n",
    "dim_servico.rename(columns={\"serviço\": \"servico\", \"valor do serviço\": \"vl_venda\"})"
   ]
  },
  {
   "cell_type": "code",
   "execution_count": 18,
   "metadata": {},
   "outputs": [],
   "source": [
    "dataframes = [dim_produto, dim_bebida, dim_doce, dim_salgado]\n",
    "\n",
    "for df in dataframes:\n",
    "    assert list(df.columns) == novas_colunas, \"colunas não estão iguais\""
   ]
  },
  {
   "cell_type": "code",
   "execution_count": 19,
   "metadata": {},
   "outputs": [],
   "source": [
    "dim_produto = DataCleaner(dim_produto).to_null(\"produto\", \"VAZIO\").df\n",
    "\n",
    "dim_salgado = DataCleaner(dim_salgado).to_null(\"produto\", \"VAZIO\").df\n",
    "dim_doce = DataCleaner(dim_doce).to_null(\"produto\", \"VAZIO\").df\n",
    "dim_bebida = DataCleaner(dim_bebida).to_null(\"produto\", \"VAZIO\").df"
   ]
  },
  {
   "cell_type": "code",
   "execution_count": 20,
   "metadata": {},
   "outputs": [
    {
     "name": "stdout",
     "output_type": "stream",
     "text": [
      "0\n",
      "0\n",
      "0\n",
      "0\n"
     ]
    }
   ],
   "source": [
    "dataframes = [dim_produto, dim_bebida, dim_doce, dim_salgado]\n",
    "\n",
    "for data in dataframes:\n",
    "    count = data[\"produto\"].value_counts().get(\"VAZIO\", 0)\n",
    "    print(count)"
   ]
  },
  {
   "cell_type": "code",
   "execution_count": 21,
   "metadata": {},
   "outputs": [],
   "source": [
    "def quick_clean(data):\n",
    "    if isinstance(data, pd.DataFrame):\n",
    "        data_cleaner = DataCleaner(data)\n",
    "    elif isinstance(data, DataCleaner):\n",
    "        data_cleaner = data\n",
    "    else:\n",
    "        raise TypeError(\"data precisa ser um DataFrame ou um DataCleaner\")\n",
    "    return (\n",
    "        data_cleaner.normalize_dollar(\"vl_compra\")\n",
    "        .normalize_dollar(\"vl_venda\")\n",
    "        .normalize_dollar(\"lucro\")\n",
    "        .df\n",
    "    )\n",
    "\n",
    "\n",
    "dim_produto = quick_clean(dim_produto)\n",
    "dim_salgado = quick_clean(dim_salgado)\n",
    "dim_doce = quick_clean(dim_doce)\n",
    "dim_bebida = quick_clean(dim_bebida)"
   ]
  },
  {
   "cell_type": "code",
   "execution_count": 22,
   "metadata": {},
   "outputs": [],
   "source": [
    "dataframes = [\n",
    "    dim_servico,\n",
    "    dim_produto,\n",
    "    dim_doce,\n",
    "    dim_salgado,\n",
    "    dim_bebida,\n",
    "    dim_funcionario,\n",
    "    dim_taxa,\n",
    "]\n",
    "\n",
    "for df in dataframes:\n",
    "    df.dropna(inplace=True)"
   ]
  },
  {
   "cell_type": "code",
   "execution_count": 23,
   "metadata": {},
   "outputs": [],
   "source": [
    "def to_string(dataframe, coluna):\n",
    "\n",
    "    dataframe[coluna] = dataframe[coluna].astype(str)\n",
    "\n",
    "    return dataframe[coluna].apply(lambda x: type(x)).value_counts()"
   ]
  },
  {
   "cell_type": "code",
   "execution_count": 24,
   "metadata": {},
   "outputs": [],
   "source": [
    "assert to_string(dim_produto, \"produto\").iloc[0] > 0\n",
    "assert to_string(dim_bebida, \"produto\").iloc[0] > 0\n",
    "assert to_string(dim_doce, \"produto\").iloc[0] > 0\n",
    "assert to_string(dim_salgado, \"produto\").iloc[0] > 0"
   ]
  },
  {
   "cell_type": "markdown",
   "metadata": {},
   "source": [
    "#### Sobre as tabelas produtos :\n",
    "\n",
    "A planilha produtos possui em si dois tipos de dimensões: as dimensões de acordo com o tipo (\"bebidas\",\"salgados\",\"doces\") e a tabela \"produtos\" que possui a \"junção\" desses outros produtos mais alguns relacionados ao salão (produtos cosméticos)"
   ]
  },
  {
   "cell_type": "code",
   "execution_count": 28,
   "metadata": {},
   "outputs": [
    {
     "data": {
      "application/vnd.microsoft.datawrangler.viewer.v0+json": {
       "columns": [
        {
         "name": "index",
         "rawType": "int64",
         "type": "integer"
        },
        {
         "name": "produto",
         "rawType": "object",
         "type": "string"
        },
        {
         "name": "vl_venda",
         "rawType": "float64",
         "type": "float"
        },
        {
         "name": "vl_compra",
         "rawType": "float64",
         "type": "float"
        },
        {
         "name": "lucro",
         "rawType": "float64",
         "type": "float"
        },
        {
         "name": "tipo",
         "rawType": "object",
         "type": "string"
        },
        {
         "name": "vl_venda_y",
         "rawType": "float64",
         "type": "float"
        },
        {
         "name": "vl_compra_y",
         "rawType": "float64",
         "type": "float"
        },
        {
         "name": "lucro_y",
         "rawType": "float64",
         "type": "float"
        },
        {
         "name": "tipo_y",
         "rawType": "object",
         "type": "unknown"
        }
       ],
       "conversionMethod": "pd.DataFrame",
       "ref": "651ae7c4-e3c0-42a5-b0be-8e80c41c559a",
       "rows": [
        [
         "0",
         "Balm Midtown B.URB",
         "65.0",
         "37.0",
         "28.0",
         "barbearia",
         null,
         null,
         null,
         null
        ],
        [
         "1",
         "Óleo para Barba Venice B.URB",
         "65.0",
         "45.0",
         "20.0",
         "barbearia",
         null,
         null,
         null,
         null
        ],
        [
         "2",
         "Pomada Queens B.URB",
         "75.0",
         "46.0",
         "29.0",
         "barbearia",
         null,
         null,
         null,
         null
        ],
        [
         "3",
         "Pomada Brooklyn B.URB",
         "75.0",
         "51.0",
         "24.0",
         "barbearia",
         null,
         null,
         null,
         null
        ],
        [
         "4",
         "Minoxidil Kirkland",
         "110.0",
         "55.0",
         "55.0",
         "barbearia",
         null,
         null,
         null,
         null
        ],
        [
         "5",
         "PENTE MASSAGEADOR",
         "40.0",
         "25.0",
         "15.0",
         "barbearia",
         null,
         null,
         null,
         null
        ],
        [
         "6",
         "Máscara Black Red Nek",
         "65.0",
         "40.3",
         "24.7",
         "barbearia",
         null,
         null,
         null,
         null
        ],
        [
         "7",
         "Esfoliante Facial B.URB",
         "65.0",
         "43.64",
         "21.36",
         "barbearia",
         null,
         null,
         null,
         null
        ],
        [
         "8",
         "Kit de Higienização Facial",
         "125.0",
         "75.0",
         "50.0",
         "barbearia",
         null,
         null,
         null,
         null
        ],
        [
         "9",
         "Leave-in B.URB",
         "65.0",
         "40.0",
         "25.0",
         "barbearia",
         null,
         null,
         null,
         null
        ]
       ],
       "shape": {
        "columns": 9,
        "rows": 10
       }
      },
      "text/html": [
       "<div>\n",
       "<style scoped>\n",
       "    .dataframe tbody tr th:only-of-type {\n",
       "        vertical-align: middle;\n",
       "    }\n",
       "\n",
       "    .dataframe tbody tr th {\n",
       "        vertical-align: top;\n",
       "    }\n",
       "\n",
       "    .dataframe thead th {\n",
       "        text-align: right;\n",
       "    }\n",
       "</style>\n",
       "<table border=\"1\" class=\"dataframe\">\n",
       "  <thead>\n",
       "    <tr style=\"text-align: right;\">\n",
       "      <th></th>\n",
       "      <th>produto</th>\n",
       "      <th>vl_venda</th>\n",
       "      <th>vl_compra</th>\n",
       "      <th>lucro</th>\n",
       "      <th>tipo</th>\n",
       "      <th>vl_venda_y</th>\n",
       "      <th>vl_compra_y</th>\n",
       "      <th>lucro_y</th>\n",
       "      <th>tipo_y</th>\n",
       "    </tr>\n",
       "  </thead>\n",
       "  <tbody>\n",
       "    <tr>\n",
       "      <th>0</th>\n",
       "      <td>Balm Midtown B.URB</td>\n",
       "      <td>65.00</td>\n",
       "      <td>37.00</td>\n",
       "      <td>28.00</td>\n",
       "      <td>barbearia</td>\n",
       "      <td>NaN</td>\n",
       "      <td>NaN</td>\n",
       "      <td>NaN</td>\n",
       "      <td>NaN</td>\n",
       "    </tr>\n",
       "    <tr>\n",
       "      <th>1</th>\n",
       "      <td>Óleo para Barba Venice B.URB</td>\n",
       "      <td>65.00</td>\n",
       "      <td>45.00</td>\n",
       "      <td>20.00</td>\n",
       "      <td>barbearia</td>\n",
       "      <td>NaN</td>\n",
       "      <td>NaN</td>\n",
       "      <td>NaN</td>\n",
       "      <td>NaN</td>\n",
       "    </tr>\n",
       "    <tr>\n",
       "      <th>2</th>\n",
       "      <td>Pomada Queens B.URB</td>\n",
       "      <td>75.00</td>\n",
       "      <td>46.00</td>\n",
       "      <td>29.00</td>\n",
       "      <td>barbearia</td>\n",
       "      <td>NaN</td>\n",
       "      <td>NaN</td>\n",
       "      <td>NaN</td>\n",
       "      <td>NaN</td>\n",
       "    </tr>\n",
       "    <tr>\n",
       "      <th>3</th>\n",
       "      <td>Pomada Brooklyn B.URB</td>\n",
       "      <td>75.00</td>\n",
       "      <td>51.00</td>\n",
       "      <td>24.00</td>\n",
       "      <td>barbearia</td>\n",
       "      <td>NaN</td>\n",
       "      <td>NaN</td>\n",
       "      <td>NaN</td>\n",
       "      <td>NaN</td>\n",
       "    </tr>\n",
       "    <tr>\n",
       "      <th>4</th>\n",
       "      <td>Minoxidil Kirkland</td>\n",
       "      <td>110.00</td>\n",
       "      <td>55.00</td>\n",
       "      <td>55.00</td>\n",
       "      <td>barbearia</td>\n",
       "      <td>NaN</td>\n",
       "      <td>NaN</td>\n",
       "      <td>NaN</td>\n",
       "      <td>NaN</td>\n",
       "    </tr>\n",
       "    <tr>\n",
       "      <th>5</th>\n",
       "      <td>PENTE MASSAGEADOR</td>\n",
       "      <td>40.00</td>\n",
       "      <td>25.00</td>\n",
       "      <td>15.00</td>\n",
       "      <td>barbearia</td>\n",
       "      <td>NaN</td>\n",
       "      <td>NaN</td>\n",
       "      <td>NaN</td>\n",
       "      <td>NaN</td>\n",
       "    </tr>\n",
       "    <tr>\n",
       "      <th>6</th>\n",
       "      <td>Máscara Black Red Nek</td>\n",
       "      <td>65.00</td>\n",
       "      <td>40.30</td>\n",
       "      <td>24.70</td>\n",
       "      <td>barbearia</td>\n",
       "      <td>NaN</td>\n",
       "      <td>NaN</td>\n",
       "      <td>NaN</td>\n",
       "      <td>NaN</td>\n",
       "    </tr>\n",
       "    <tr>\n",
       "      <th>7</th>\n",
       "      <td>Esfoliante Facial B.URB</td>\n",
       "      <td>65.00</td>\n",
       "      <td>43.64</td>\n",
       "      <td>21.36</td>\n",
       "      <td>barbearia</td>\n",
       "      <td>NaN</td>\n",
       "      <td>NaN</td>\n",
       "      <td>NaN</td>\n",
       "      <td>NaN</td>\n",
       "    </tr>\n",
       "    <tr>\n",
       "      <th>8</th>\n",
       "      <td>Kit de Higienização Facial</td>\n",
       "      <td>125.00</td>\n",
       "      <td>75.00</td>\n",
       "      <td>50.00</td>\n",
       "      <td>barbearia</td>\n",
       "      <td>NaN</td>\n",
       "      <td>NaN</td>\n",
       "      <td>NaN</td>\n",
       "      <td>NaN</td>\n",
       "    </tr>\n",
       "    <tr>\n",
       "      <th>9</th>\n",
       "      <td>Leave-in B.URB</td>\n",
       "      <td>65.00</td>\n",
       "      <td>40.00</td>\n",
       "      <td>25.00</td>\n",
       "      <td>barbearia</td>\n",
       "      <td>NaN</td>\n",
       "      <td>NaN</td>\n",
       "      <td>NaN</td>\n",
       "      <td>NaN</td>\n",
       "    </tr>\n",
       "  </tbody>\n",
       "</table>\n",
       "</div>"
      ],
      "text/plain": [
       "                        produto  vl_venda  vl_compra  lucro       tipo  vl_venda_y  vl_compra_y  lucro_y tipo_y\n",
       "0            Balm Midtown B.URB     65.00      37.00  28.00  barbearia         NaN          NaN      NaN    NaN\n",
       "1  Óleo para Barba Venice B.URB     65.00      45.00  20.00  barbearia         NaN          NaN      NaN    NaN\n",
       "2           Pomada Queens B.URB     75.00      46.00  29.00  barbearia         NaN          NaN      NaN    NaN\n",
       "3         Pomada Brooklyn B.URB     75.00      51.00  24.00  barbearia         NaN          NaN      NaN    NaN\n",
       "4            Minoxidil Kirkland    110.00      55.00  55.00  barbearia         NaN          NaN      NaN    NaN\n",
       "5             PENTE MASSAGEADOR     40.00      25.00  15.00  barbearia         NaN          NaN      NaN    NaN\n",
       "6         Máscara Black Red Nek     65.00      40.30  24.70  barbearia         NaN          NaN      NaN    NaN\n",
       "7       Esfoliante Facial B.URB     65.00      43.64  21.36  barbearia         NaN          NaN      NaN    NaN\n",
       "8    Kit de Higienização Facial    125.00      75.00  50.00  barbearia         NaN          NaN      NaN    NaN\n",
       "9                Leave-in B.URB     65.00      40.00  25.00  barbearia         NaN          NaN      NaN    NaN"
      ]
     },
     "execution_count": 28,
     "metadata": {},
     "output_type": "execute_result"
    }
   ],
   "source": [
    "dim_produtos_independetes = pd.concat([dim_bebida, dim_doce, dim_salgado])\n",
    "\n",
    "\n",
    "produtos_merged = dim_produto.merge(\n",
    "    dim_produtos_independetes, on=\"produto\", how=\"left\", suffixes=(None, \"_y\")\n",
    ")\n",
    "\n",
    "produtos_merged.head(10)"
   ]
  },
  {
   "cell_type": "code",
   "execution_count": null,
   "metadata": {},
   "outputs": [],
   "source": [
    "produtos_merged = produtos_merged.drop(produtos_merged.columns[4:8], axis=1)"
   ]
  },
  {
   "cell_type": "code",
   "execution_count": null,
   "metadata": {},
   "outputs": [
    {
     "ename": "KeyError",
     "evalue": "'tipo_y'",
     "output_type": "error",
     "traceback": [
      "\u001b[31m---------------------------------------------------------------------------\u001b[39m",
      "\u001b[31mKeyError\u001b[39m                                  Traceback (most recent call last)",
      "\u001b[36mFile \u001b[39m\u001b[32mc:\\Users\\luiz\\anaconda3\\envs\\Barbearia\\Lib\\site-packages\\pandas\\core\\indexes\\base.py:3805\u001b[39m, in \u001b[36mIndex.get_loc\u001b[39m\u001b[34m(self, key)\u001b[39m\n\u001b[32m   3804\u001b[39m \u001b[38;5;28;01mtry\u001b[39;00m:\n\u001b[32m-> \u001b[39m\u001b[32m3805\u001b[39m     \u001b[38;5;28;01mreturn\u001b[39;00m \u001b[38;5;28mself\u001b[39m._engine.get_loc(casted_key)\n\u001b[32m   3806\u001b[39m \u001b[38;5;28;01mexcept\u001b[39;00m \u001b[38;5;167;01mKeyError\u001b[39;00m \u001b[38;5;28;01mas\u001b[39;00m err:\n",
      "\u001b[36mFile \u001b[39m\u001b[32mindex.pyx:167\u001b[39m, in \u001b[36mpandas._libs.index.IndexEngine.get_loc\u001b[39m\u001b[34m()\u001b[39m\n",
      "\u001b[36mFile \u001b[39m\u001b[32mindex.pyx:196\u001b[39m, in \u001b[36mpandas._libs.index.IndexEngine.get_loc\u001b[39m\u001b[34m()\u001b[39m\n",
      "\u001b[36mFile \u001b[39m\u001b[32mpandas\\\\_libs\\\\hashtable_class_helper.pxi:7081\u001b[39m, in \u001b[36mpandas._libs.hashtable.PyObjectHashTable.get_item\u001b[39m\u001b[34m()\u001b[39m\n",
      "\u001b[36mFile \u001b[39m\u001b[32mpandas\\\\_libs\\\\hashtable_class_helper.pxi:7089\u001b[39m, in \u001b[36mpandas._libs.hashtable.PyObjectHashTable.get_item\u001b[39m\u001b[34m()\u001b[39m\n",
      "\u001b[31mKeyError\u001b[39m: 'tipo_y'",
      "\nThe above exception was the direct cause of the following exception:\n",
      "\u001b[31mKeyError\u001b[39m                                  Traceback (most recent call last)",
      "\u001b[36mCell\u001b[39m\u001b[36m \u001b[39m\u001b[32mIn[47]\u001b[39m\u001b[32m, line 1\u001b[39m\n\u001b[32m----> \u001b[39m\u001b[32m1\u001b[39m produtos_merged[\u001b[33m\"\u001b[39m\u001b[33mtipo\u001b[39m\u001b[33m\"\u001b[39m] = produtos_merged[\u001b[33m\"\u001b[39m\u001b[33mtipo_y\u001b[39m\u001b[33m\"\u001b[39m].apply(\u001b[38;5;28;01mlambda\u001b[39;00m x: \u001b[33m\"\u001b[39m\u001b[33mbarbearia\u001b[39m\u001b[33m\"\u001b[39m \u001b[38;5;28;01mif\u001b[39;00m pd.isna(x) \u001b[38;5;28;01melse\u001b[39;00m x)\n\u001b[32m      2\u001b[39m produtos_merged.drop(column=\u001b[33m\"\u001b[39m\u001b[33mtipo_y\u001b[39m\u001b[33m\"\u001b[39m)\n\u001b[32m      3\u001b[39m produtos_merged = feature_engineering(produtos_merged)\n",
      "\u001b[36mFile \u001b[39m\u001b[32mc:\\Users\\luiz\\anaconda3\\envs\\Barbearia\\Lib\\site-packages\\pandas\\core\\frame.py:4102\u001b[39m, in \u001b[36mDataFrame.__getitem__\u001b[39m\u001b[34m(self, key)\u001b[39m\n\u001b[32m   4100\u001b[39m \u001b[38;5;28;01mif\u001b[39;00m \u001b[38;5;28mself\u001b[39m.columns.nlevels > \u001b[32m1\u001b[39m:\n\u001b[32m   4101\u001b[39m     \u001b[38;5;28;01mreturn\u001b[39;00m \u001b[38;5;28mself\u001b[39m._getitem_multilevel(key)\n\u001b[32m-> \u001b[39m\u001b[32m4102\u001b[39m indexer = \u001b[38;5;28mself\u001b[39m.columns.get_loc(key)\n\u001b[32m   4103\u001b[39m \u001b[38;5;28;01mif\u001b[39;00m is_integer(indexer):\n\u001b[32m   4104\u001b[39m     indexer = [indexer]\n",
      "\u001b[36mFile \u001b[39m\u001b[32mc:\\Users\\luiz\\anaconda3\\envs\\Barbearia\\Lib\\site-packages\\pandas\\core\\indexes\\base.py:3812\u001b[39m, in \u001b[36mIndex.get_loc\u001b[39m\u001b[34m(self, key)\u001b[39m\n\u001b[32m   3807\u001b[39m     \u001b[38;5;28;01mif\u001b[39;00m \u001b[38;5;28misinstance\u001b[39m(casted_key, \u001b[38;5;28mslice\u001b[39m) \u001b[38;5;129;01mor\u001b[39;00m (\n\u001b[32m   3808\u001b[39m         \u001b[38;5;28misinstance\u001b[39m(casted_key, abc.Iterable)\n\u001b[32m   3809\u001b[39m         \u001b[38;5;129;01mand\u001b[39;00m \u001b[38;5;28many\u001b[39m(\u001b[38;5;28misinstance\u001b[39m(x, \u001b[38;5;28mslice\u001b[39m) \u001b[38;5;28;01mfor\u001b[39;00m x \u001b[38;5;129;01min\u001b[39;00m casted_key)\n\u001b[32m   3810\u001b[39m     ):\n\u001b[32m   3811\u001b[39m         \u001b[38;5;28;01mraise\u001b[39;00m InvalidIndexError(key)\n\u001b[32m-> \u001b[39m\u001b[32m3812\u001b[39m     \u001b[38;5;28;01mraise\u001b[39;00m \u001b[38;5;167;01mKeyError\u001b[39;00m(key) \u001b[38;5;28;01mfrom\u001b[39;00m\u001b[38;5;250m \u001b[39m\u001b[34;01merr\u001b[39;00m\n\u001b[32m   3813\u001b[39m \u001b[38;5;28;01mexcept\u001b[39;00m \u001b[38;5;167;01mTypeError\u001b[39;00m:\n\u001b[32m   3814\u001b[39m     \u001b[38;5;66;03m# If we have a listlike key, _check_indexing_error will raise\u001b[39;00m\n\u001b[32m   3815\u001b[39m     \u001b[38;5;66;03m#  InvalidIndexError. Otherwise we fall through and re-raise\u001b[39;00m\n\u001b[32m   3816\u001b[39m     \u001b[38;5;66;03m#  the TypeError.\u001b[39;00m\n\u001b[32m   3817\u001b[39m     \u001b[38;5;28mself\u001b[39m._check_indexing_error(key)\n",
      "\u001b[31mKeyError\u001b[39m: 'tipo_y'"
     ]
    }
   ],
   "source": [
    "produtos_merged[\"tipo\"] = produtos_merged[\"tipo_y\"].apply(\n",
    "    lambda x: \"barbearia\" if pd.isna(x) else x\n",
    ")\n",
    "produtos_merged.drop(column=\"tipo_y\")\n",
    "produtos_merged = feature_engineering(produtos_merged)\n",
    "produtos_merged = produtos_merged.index_values(\"produto\")\n",
    "produto_map = produtos_merged.set_index(\"produto\")[\"id_produto\"].to_dict()"
   ]
  },
  {
   "cell_type": "code",
   "execution_count": null,
   "metadata": {},
   "outputs": [],
   "source": [
    "dim_p_b"
   ]
  },
  {
   "cell_type": "code",
   "execution_count": null,
   "metadata": {},
   "outputs": [],
   "source": [
    "passage: Dict[str, pd.DataFrame] = {}\n",
    "\n",
    "for key, value in combine_columns.items():\n",
    "    result_dataframe = data_cleaning.to_its_own_dimension(entradas, key, value)\n",
    "\n",
    "result_dataframe.dropna(subset=\"produtos\", inplace=True)\n",
    "result_dataframe = result_dataframe.assign(\n",
    "    produtos=result_dataframe[\"produtos\"].str.split(\",\")\n",
    ").explode(\"produtos\")\n",
    "result_dataframe[\"quantidade\"] = 1\n",
    "result_dataframe[\"produtos\"].unique()\n",
    "fato_produtos = result_dataframe\n",
    "fato_produtos.rename(columns={\"ID\": \"id_servico\"}, inplace=True)\n",
    "fato_produtos[\"id_servico\"] = fato_produtos[\"id_servico\"].astype(int)\n",
    "fato_produtos = fato_produtos.merge(\n",
    "    dim_p_b, left_on=\"produtos\", right_on=\"produto\", how=\"left\"\n",
    ")"
   ]
  },
  {
   "cell_type": "markdown",
   "metadata": {},
   "source": [
    "#### Limpeza produtos"
   ]
  },
  {
   "cell_type": "markdown",
   "metadata": {},
   "source": [
    "## Criando tabela Fato\n"
   ]
  },
  {
   "cell_type": "code",
   "execution_count": null,
   "metadata": {},
   "outputs": [],
   "source": [
    "tabela_fato = entradas[\n",
    "    [\n",
    "        \"data\",\n",
    "        \"ID\",\n",
    "        \"Colaborador\",\n",
    "        \"Cliente\",\n",
    "        \"Servico\",\n",
    "        \"ValordoServico\",\n",
    "        \"ClienteNovo\",\n",
    "        \"Local\",\n",
    "        \"Produto\",\n",
    "        \"QuantidadeProduto\",\n",
    "        \"ValorTotaldosProduto\",\n",
    "        \"Doces\",\n",
    "        \"QuantidadeDoces\",\n",
    "        \"ValorTotaldosDoces\",\n",
    "        \"Salgados\",\n",
    "        \"QuantidadeSalgados\",\n",
    "        \"Bebidas\",\n",
    "        \"QuantidadeBebidas\",\n",
    "        \"ValorTotaldasBebidas\",\n",
    "        \"FormadePagamento\",\n",
    "        \"TaxaMaquina\",\n",
    "        \"Total(S+P)\",\n",
    "        \"Total(S+P)*T\",\n",
    "        \"Total[(S+P)-LP]*T\",\n",
    "        \"TotalS+LP-Col\",\n",
    "        \"TotalColaborador\",\n",
    "        \"Colaborador50%\",\n",
    "    ]\n",
    "]\n",
    "\n",
    "tabela_fato = tabela_fato.rename(\n",
    "    columns={\n",
    "        \"data\": \"data\",\n",
    "        \"ID\": \"id\",\n",
    "        \"Colaborador\": \"colaborador\",\n",
    "        \"Cliente\": \"cliente\",\n",
    "        \"Servico\": \"servico\",\n",
    "        \"ValordoServico\": \"vl_servico\",\n",
    "        \"ClienteNovo\": \"cliente_novo\",\n",
    "        \"Local\": \"fidelizado\",\n",
    "        \"Produto\": \"produto\",\n",
    "        \"QuantidadeProduto\": \"qtd_produto\",\n",
    "        \"ValorTotaldosProduto\": \"vl_total_produto\",\n",
    "        \"Doces\": \"doce\",\n",
    "        \"QuantidadeDoces\": \"qtd_doce\",\n",
    "        \"ValorTotaldosDoces\": \"vl_total_doces\",\n",
    "        \"Salgados\": \"salgado\",\n",
    "        \"QuantidadeSalgados\": \"qtd_salgado\",\n",
    "        \"ValorTotaldosSalgados\": \"vl_total_salgado\",\n",
    "        \"Bebidas\": \"bebida\",\n",
    "        \"QuantidadeBebidas\": \"qtd_bebida\",\n",
    "        \"ValorTotaldasBebidas\": \"vl_total_bebida\",\n",
    "        \"FormadePagamento\": \"forma_de_pagamento\",\n",
    "        \"TaxaMaquina\": \"tx_maquina\",\n",
    "        \"Total(S+P)\": \"total_sp\",\n",
    "        \"Total(S+P)*T\": \"total_spt\",\n",
    "        \"Total[(S+P)-LP]*T\": \"total_splt\",\n",
    "        \"TotalS+LP-Col\": \"total_slp_col\",\n",
    "        \"TotalColaborador\": \"total_colaborador\",\n",
    "        \"Colaborador50%\": \"colaborador_50\",\n",
    "    }\n",
    ")"
   ]
  },
  {
   "cell_type": "markdown",
   "metadata": {},
   "source": [
    "## Criação da tabela "
   ]
  },
  {
   "cell_type": "code",
   "execution_count": null,
   "metadata": {},
   "outputs": [],
   "source": [
    "import mysql.connector\n",
    "\n",
    "\n",
    "def create_table(cursor):\n",
    "    cursor.execute(\n",
    "        \"\"\"\n",
    "        CREATE TABLE IF NOT EXISTS tabela_fato (\n",
    "            data DATETIME,\n",
    "            id DOUBLE,\n",
    "            colaborador TEXT,\n",
    "            cliente TEXT,\n",
    "            servico TEXT,\n",
    "            vl_servico DOUBLE,\n",
    "            cliente_novo BOOLEAN,\n",
    "            fidelizado TEXT,\n",
    "            produto TEXT,\n",
    "            qtd_produto TEXT,\n",
    "            vl_total_produto DOUBLE,\n",
    "            doce TEXT,\n",
    "            qtd_doce DOUBLE,\n",
    "            vl_total_doces DOUBLE,\n",
    "            salgado TEXT,\n",
    "            qtd_salgado DOUBLE,\n",
    "            bebida TEXT,\n",
    "            qtd_bebida TEXT,\n",
    "            vl_total_bebida DOUBLE,\n",
    "            forma_de_pagamento TEXT,\n",
    "            tx_maquina DOUBLE,\n",
    "            total_sp DOUBLE,\n",
    "            total_spt DOUBLE,\n",
    "            total_splt DOUBLE,\n",
    "            total_slp_col DOUBLE,\n",
    "            total_colaborador DOUBLE,\n",
    "            colaborador_50 DOUBLE\n",
    "        )\n",
    "    \"\"\"\n",
    "    )\n",
    "\n",
    "\n",
    "def insert_data(cursor, entradas):\n",
    "    for _, row in entradas.iterrows():\n",
    "        cursor.execute(\n",
    "            \"\"\"\n",
    "            INSERT INTO tabela_fato VALUES (%s, %s, %s, %s, %s, %s, %s, %s, %s, %s, %s, %s, %s, %s, %s, %s, %s, %s, %s, %s, %s, %s, %s, %s, %s, %s, %s)\n",
    "        \"\"\",\n",
    "            tuple(row),\n",
    "        )\n",
    "\n",
    "\n",
    "def main(entradas):\n",
    "    conn = mysql.connector.connect(\n",
    "        host=\"database-atinova.ct6oomqu6y49.sa-east-1.rds.amazonaws.com\",\n",
    "        user=\"integrantes\",\n",
    "        password=\"grupoPI2025\",\n",
    "        database=\"barbearia\",  # Substituir pelo nome correto do banco de dados\n",
    "        port=3306,\n",
    "    )\n",
    "    cursor = conn.cursor()\n",
    "\n",
    "    create_table(cursor)\n",
    "\n",
    "    entradas.fillna(\"\", inplace=True)  # Substituir NaN por strings vazias\n",
    "    insert_data(cursor, entradas)\n",
    "\n",
    "    conn.commit()\n",
    "    cursor.close()\n",
    "    conn.close()\n",
    "\n",
    "\n",
    "# Chame a função passando seu DataFrame diretamente\n",
    "main(tabela_fato)"
   ]
  }
 ],
 "metadata": {
  "kernelspec": {
   "display_name": "Barbearia",
   "language": "python",
   "name": "python3"
  },
  "language_info": {
   "codemirror_mode": {
    "name": "ipython",
    "version": 3
   },
   "file_extension": ".py",
   "mimetype": "text/x-python",
   "name": "python",
   "nbconvert_exporter": "python",
   "pygments_lexer": "ipython3",
   "version": "3.13.2"
  }
 },
 "nbformat": 4,
 "nbformat_minor": 2
}
